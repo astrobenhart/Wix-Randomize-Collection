{
 "cells": [
  {
   "cell_type": "code",
   "execution_count": 56,
   "id": "e81108da-e195-422b-8307-0f3eb256bb06",
   "metadata": {},
   "outputs": [],
   "source": [
    "from selenium import webdriver\n",
    "from selenium.webdriver.common.by import By\n",
    "from selenium.webdriver.support.ui import WebDriverWait\n",
    "from selenium.webdriver.support import expected_conditions as EC\n",
    "from selenium.common.exceptions import TimeoutException\n",
    "import random\n",
    "from time import sleep\n",
    "from tqdm import tqdm\n",
    "\n",
    "import warnings\n",
    "warnings.filterwarnings(\"ignore\", category=DeprecationWarning) \n",
    "warnings.filterwarnings(\"ignore\", category=UserWarning) "
   ]
  },
  {
   "cell_type": "code",
   "execution_count": 57,
   "id": "861c09c6-6cbd-4aa8-9c0e-83aa89063eb1",
   "metadata": {},
   "outputs": [],
   "source": [
    "driver = webdriver.Firefox(executable_path='gd/geckodriver.exe')\n",
    "driver.get(\"http://www.wix.com/signin\")\n",
    "driver.find_element_by_id('input_0').send_keys(\"REPLACE WITH YOUR LOGIN EMAIL\")\n",
    "driver.find_element_by_id('input_1').send_keys('REPLACE WITH YOUR LOGIN PASSWORD')"
   ]
  },
  {
   "cell_type": "markdown",
   "id": "28ae8673-36e9-4653-8f43-100839a7bd64",
   "metadata": {},
   "source": [
    "Log in"
   ]
  },
  {
   "cell_type": "markdown",
   "id": "c313412b-8b04-45be-a909-f39f192796d7",
   "metadata": {},
   "source": [
    "Navigate to the collection and scroll to the bottom, making sure all of the products in the collection are visible."
   ]
  },
  {
   "cell_type": "code",
   "execution_count": 60,
   "id": "366e809d-4ae3-4959-8c33-3e7ff4b9dbbd",
   "metadata": {},
   "outputs": [],
   "source": [
    "def get_radio_box(prod_name):\n",
    "    # finds the radio box associated with the product name in case of duplicates\n",
    "    prod_box = driver.find_elements_by_class_name('wix-list-item')\n",
    "    for i in prod_box:\n",
    "        try:\n",
    "            products_name = str(i.find_element_by_class_name('product-name').text).replace('’', '').lower()\n",
    "            if str(prod_name).lower() in products_name:\n",
    "                return i.find_element_by_class_name('wix-checkbox-inner')\n",
    "        except: \n",
    "            pass"
   ]
  },
  {
   "cell_type": "code",
   "execution_count": 61,
   "id": "f4c62cad-ad73-4c50-8df5-3a2bccab700a",
   "metadata": {},
   "outputs": [],
   "source": [
    "def add_to_collection(prod_name, collection_name):\n",
    "    # adds a Product to a given collection\n",
    "    prod_name = str(prod_name).replace('’', '').lower()\n",
    "    try:\n",
    "        driver.find_element_by_class_name('wix-search-clear').click()\n",
    "    except:\n",
    "        pass\n",
    "    sleep(1)\n",
    "    try:\n",
    "        WebDriverWait(driver, 20).until(EC.presence_of_element_located((By.ID, \"header-search-input\"))).click()\n",
    "    except TimeoutException:\n",
    "        driver.refresh()\n",
    "        sleep(60)\n",
    "        WebDriverWait(driver, 20).until(EC.presence_of_element_located((By.ID, \"header-search-input\"))).click()\n",
    "    sleep(1)\n",
    "    if len(prod_name)>21:\n",
    "        send_str = str(prod_name).lower()[-21:]\n",
    "    else:\n",
    "        send_str = str(prod_name).lower()\n",
    "    driver.find_element_by_id('header-search-input').send_keys(send_str)\n",
    "    sleep(5)\n",
    "    x = 0\n",
    "    while (len(driver.find_elements_by_class_name('wix-checkbox-inner')) < 2) and (x<10):\n",
    "        sleep(1)\n",
    "        x+=1\n",
    "    prod_radio = get_radio_box(prod_name)\n",
    "    if (x != 10) and prod_radio is not None:\n",
    "        prod_radio.click()\n",
    "        sleep(1)\n",
    "        driver.find_element_by_xpath('/html/body/div[1]/div/div/div[2]/div/div[1]/div/div/div/div/div/store-manager/div/main/products-list/page-header/div[2]/ul/li[1]/list-header/div[2]/dropdown-button[1]/button/span').click()\n",
    "        sleep(1)\n",
    "        driver.find_elements_by_class_name('wix-search-wrapper')[1].click()\n",
    "        for i in driver.find_elements_by_class_name('ng-pristine'):\n",
    "            try:\n",
    "                i.send_keys(collection_name)\n",
    "            except:\n",
    "                pass\n",
    "        sleep(1)\n",
    "        coll = driver.find_element_by_class_name('name')\n",
    "        assert(str(coll.text).lower() == str(collection_name).lower())\n",
    "        coll.click()\n",
    "        driver.find_elements_by_xpath(\"//*[@data-hook='apply']\")[0].click()\n",
    "    else:\n",
    "        print('couldnt find {}'.format(prod_name))\n",
    "    sleep(5)"
   ]
  },
  {
   "cell_type": "code",
   "execution_count": 62,
   "id": "a15437cc-b982-4315-9f18-cc91e236a16e",
   "metadata": {},
   "outputs": [],
   "source": [
    "def add_all():\n",
    "    # Get collection details and shuffle Product list\n",
    "    prods = driver.find_elements_by_class_name('product-name')\n",
    "    removes = driver.find_elements_by_class_name('remove-button')\n",
    "    print(len(prods))\n",
    "    prod_names = [x.text for x in prods]\n",
    "    collection_name = driver.find_element_by_class_name('label-text').text\n",
    "\n",
    "    prod_list = list(zip(range(len(prod_names)), prod_names, removes))\n",
    "    random.shuffle(prod_list)\n",
    "    \n",
    "    return ([x[1] for x in prod_list], collection_name)"
   ]
  },
  {
   "cell_type": "code",
   "execution_count": 63,
   "id": "9bee036d-9c3c-4359-aec3-e54a660ed355",
   "metadata": {},
   "outputs": [],
   "source": [
    "def get_missing(original_collection, shuffled_collection):\n",
    "    return [elem for elem in original_collection if elem not in shuffled_collection]"
   ]
  },
  {
   "cell_type": "markdown",
   "id": "f79c7f89-00e9-447a-9c7f-5e2a54cdb6e7",
   "metadata": {},
   "source": [
    "# Randomizing Collections"
   ]
  },
  {
   "cell_type": "markdown",
   "id": "17d7c246-c8f4-4662-839b-661f7b52363d",
   "metadata": {},
   "source": [
    "Go to collection you wish to randomize and scroll to the last product."
   ]
  },
  {
   "cell_type": "code",
   "execution_count": 80,
   "id": "4f3a14a7-ad86-4b5b-a6ff-f7aea33f4ebd",
   "metadata": {},
   "outputs": [
    {
     "name": "stdout",
     "output_type": "stream",
     "text": [
      "23\n"
     ]
    }
   ],
   "source": [
    "prod_list, collection_name = add_all()"
   ]
  },
  {
   "cell_type": "markdown",
   "id": "76f088db-5b7a-4f63-ab8d-fb1c0c9e4c93",
   "metadata": {},
   "source": [
    "Create new collection and enter its name below"
   ]
  },
  {
   "cell_type": "code",
   "execution_count": 81,
   "id": "7c086104-58a6-4cb3-af55-2068787ee042",
   "metadata": {},
   "outputs": [],
   "source": [
    "collection_name = 'shop shuffle'"
   ]
  },
  {
   "cell_type": "markdown",
   "id": "85ee4198-6075-4dbf-8175-37072c778e14",
   "metadata": {},
   "source": [
    "go to products to automate add to collection service"
   ]
  },
  {
   "cell_type": "code",
   "execution_count": 82,
   "id": "d39abb48-9767-4f59-a182-b8d33da9b91a",
   "metadata": {},
   "outputs": [
    {
     "name": "stderr",
     "output_type": "stream",
     "text": [
      "100%|██████████████████████████████████████████████████████████████████████████████████| 23/23 [06:55<00:00, 18.08s/it]\n"
     ]
    }
   ],
   "source": [
    "y = 0\n",
    "for i in tqdm(prod_list):\n",
    "    if y % 20 == 0:\n",
    "        driver.refresh()\n",
    "        sleep(10)\n",
    "    add_to_collection(i, collection_name)\n",
    "    y+=1"
   ]
  },
  {
   "cell_type": "markdown",
   "id": "890e132b-9f24-48f3-9c82-0f6a91a4791d",
   "metadata": {},
   "source": [
    "# Checking for missing products in catelogs"
   ]
  },
  {
   "cell_type": "code",
   "execution_count": 83,
   "id": "5fdb1622-3e05-48be-92f1-c433f3d64083",
   "metadata": {},
   "outputs": [
    {
     "name": "stdout",
     "output_type": "stream",
     "text": [
      "23\n"
     ]
    }
   ],
   "source": [
    "shuf_col, _ = add_all()"
   ]
  },
  {
   "cell_type": "code",
   "execution_count": 84,
   "id": "61347320-dccd-491a-98c2-28ae5c49cab6",
   "metadata": {},
   "outputs": [
    {
     "data": {
      "text/plain": [
       "[]"
      ]
     },
     "execution_count": 84,
     "metadata": {},
     "output_type": "execute_result"
    }
   ],
   "source": [
    "get_missing(prod_list, shuf_col)"
   ]
  },
  {
   "cell_type": "code",
   "execution_count": null,
   "id": "c9677f06-b9c2-495a-b1b6-bd7e4a851974",
   "metadata": {},
   "outputs": [],
   "source": []
  }
 ],
 "metadata": {
  "kernelspec": {
   "display_name": "Python 3 (ipykernel)",
   "language": "python",
   "name": "python3"
  },
  "language_info": {
   "codemirror_mode": {
    "name": "ipython",
    "version": 3
   },
   "file_extension": ".py",
   "mimetype": "text/x-python",
   "name": "python",
   "nbconvert_exporter": "python",
   "pygments_lexer": "ipython3",
   "version": "3.8.12"
  }
 },
 "nbformat": 4,
 "nbformat_minor": 5
}
