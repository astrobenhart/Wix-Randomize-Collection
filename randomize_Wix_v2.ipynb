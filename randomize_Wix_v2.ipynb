{
 "cells": [
  {
   "cell_type": "code",
   "execution_count": 67,
   "id": "07f3dd26-e015-46e5-8eed-ceedded73b58",
   "metadata": {},
   "outputs": [],
   "source": [
    "from selenium import webdriver\n",
    "from selenium.webdriver.common.by import By\n",
    "from selenium.webdriver.support.ui import WebDriverWait\n",
    "from selenium.webdriver.common.action_chains import ActionChains\n",
    "from selenium.webdriver.support import expected_conditions as EC\n",
    "from selenium.common.exceptions import TimeoutException, StaleElementReferenceException\n",
    "import time\n",
    "from tqdm import tqdm\n",
    "import random\n",
    "import numpy as np"
   ]
  },
  {
   "cell_type": "code",
   "execution_count": 68,
   "id": "9dc2bea4-cc11-415e-bdc8-cff479bb9838",
   "metadata": {},
   "outputs": [],
   "source": [
    "driver = webdriver.Firefox()"
   ]
  },
  {
   "cell_type": "code",
   "execution_count": 69,
   "id": "003e59f3-8fd9-4c51-91e0-3d29383c4f89",
   "metadata": {},
   "outputs": [],
   "source": [
    "# # Find the source element (index 3)\n",
    "# source_index = 3\n",
    "# source_element_xpath = f'//li[@data-hook=\"product-item-wrapper\"][{source_index}]'\n",
    "# source_element = driver.find_element(By.XPATH,source_element_xpath)\n",
    "\n",
    "# # Find the target element (index 76)\n",
    "# target_index = 4\n",
    "# target_element_xpath = f'//li[@data-hook=\"product-item-wrapper\"][{target_index}]'\n",
    "# target_element = driver.find_element(By.XPATH,target_element_xpath)"
   ]
  },
  {
   "cell_type": "code",
   "execution_count": 70,
   "id": "6c09dcec-48a8-4f95-a59f-abb60a75ecac",
   "metadata": {},
   "outputs": [],
   "source": [
    "def move_prod(source_idx, max_index, random_window_range=20):\n",
    "    source_element_xpath = f'//li[@data-hook=\"product-item-wrapper\"][{source_idx}]'\n",
    "    source_element = driver.find_element(By.XPATH,source_element_xpath)\n",
    "\n",
    "    target_index = np.abs(source_idx + random.randint(-1*random_window_range, random_window_range))\n",
    "    if target_index > max_index:\n",
    "        target_index = target_index - (random_window_range+1)\n",
    "    target_element_xpath = f'//li[@data-hook=\"product-item-wrapper\"][{target_index}]'\n",
    "    target_element = driver.find_element(By.XPATH,target_element_xpath)\n",
    "\n",
    "    # driver.execute_script(\"arguments[0].scrollIntoView();\", source_element)\n",
    "    # action_chains.drag_and_drop(source_element, target_element).perform()\n",
    "    driver.execute_script(\"arguments[0].scrollIntoView();\", source_element)\n",
    "    # action_chains.scroll_to_element(source_element).perform()\n",
    "    # time.sleep(0.1)\n",
    "    action_chains.click_and_hold(source_element).perform()\n",
    "    # time.sleep(0.1)\n",
    "    # time.sleep(3)\n",
    "    driver.execute_script(\"arguments[0].scrollIntoView();\", target_element)\n",
    "    # action_chains.scroll_to_element(target_element).perform()\n",
    "    # time.sleep(0.1)\n",
    "    # time.sleep(3)\n",
    "    # action_chains.release().perform()\n",
    "    action_chains.move_to_element(target_element).perform()\n",
    "    action_chains.release().perform()\n",
    "    # time.sleep(0.11)\n",
    "    # print('move')\n",
    "\n",
    "def move_prods(random_window_range=20):\n",
    "    prods = driver.find_elements(By.XPATH, '//li[@data-hook=\"product-item-wrapper\"]')\n",
    "    n_prods = len(prods)\n",
    "    for i in tqdm(range(n_prods)):\n",
    "        source_element = prods[i]\n",
    "        step = np.abs(i + random.randint(-1*random_window_range, random_window_range))\n",
    "        target_element = prods[step]\n",
    "\n",
    "        driver.execute_script(\"arguments[0].scrollIntoView();\", source_element)\n",
    "        action_chains.click_and_hold(source_element).perform()\n",
    "        driver.execute_script(\"arguments[0].scrollIntoView();\", target_element)\n",
    "        action_chains.move_to_element(target_element).perform()\n",
    "        action_chains.release().perform()\n",
    "        "
   ]
  },
  {
   "cell_type": "code",
   "execution_count": 13,
   "id": "f93f2447-2706-4dea-b826-28b7afe84bed",
   "metadata": {},
   "outputs": [],
   "source": [
    "action_chains = ActionChains(driver)"
   ]
  },
  {
   "cell_type": "code",
   "execution_count": 60,
   "id": "51c27521-9cad-40eb-83f5-9d51261b8bd6",
   "metadata": {},
   "outputs": [],
   "source": [
    "def scroll_to_bottom():\n",
    "    element = None\n",
    "    while True:\n",
    "        prods = driver.find_elements(By.XPATH, '//li[@data-hook=\"product-item-wrapper\"]')\n",
    "        if element != prods[-1]:\n",
    "            element = prods[-1]\n",
    "            driver.execute_script(\"arguments[0].scrollIntoView();\", element)\n",
    "            time.sleep(1)\n",
    "        else:\n",
    "            break"
   ]
  },
  {
   "cell_type": "code",
   "execution_count": 61,
   "id": "518b6cfc-72f6-4f0c-a67a-3d62ca70fa5e",
   "metadata": {},
   "outputs": [],
   "source": [
    "scroll_to_bottom()"
   ]
  },
  {
   "cell_type": "code",
   "execution_count": 62,
   "id": "135681ab-4c0e-485e-9b35-66b625344d96",
   "metadata": {},
   "outputs": [
    {
     "data": {
      "text/plain": [
       "764"
      ]
     },
     "execution_count": 62,
     "metadata": {},
     "output_type": "execute_result"
    }
   ],
   "source": [
    "len(driver.find_elements(By.XPATH, '//li[@data-hook=\"product-item-wrapper\"]'))"
   ]
  },
  {
   "cell_type": "code",
   "execution_count": 66,
   "id": "1532ef1a-4ce0-407f-beca-bd33923c0603",
   "metadata": {},
   "outputs": [],
   "source": [
    "driver.quit()"
   ]
  },
  {
   "cell_type": "code",
   "execution_count": null,
   "id": "8a703a4d-41ad-4f03-9bff-e4b4e849b47d",
   "metadata": {},
   "outputs": [],
   "source": [
    "move_prods()"
   ]
  },
  {
   "cell_type": "code",
   "execution_count": null,
   "id": "9cd53403-f117-41b4-afab-2d8fc937b645",
   "metadata": {},
   "outputs": [],
   "source": [
    "for i in tqdm(range(n_prods-1)):\n",
    "    move_prod(i+1, n_prods)"
   ]
  },
  {
   "cell_type": "code",
   "execution_count": 38,
   "id": "6b4ead01-3a0c-4985-94bd-38b47ea4a142",
   "metadata": {},
   "outputs": [
    {
     "data": {
      "text/plain": [
       "<selenium.webdriver.common.action_chains.ActionChains at 0x20875742680>"
      ]
     },
     "execution_count": 38,
     "metadata": {},
     "output_type": "execute_result"
    }
   ],
   "source": [
    "\n",
    "driver.execute_script(\"arguments[0].scrollIntoView();\", source_element)\n",
    "action_chains.click_and_hold(source_element)\n",
    "# time.sleep(3)\n",
    "# driver.execute_script(\"arguments[0].scrollIntoView();\", target_element)\n",
    "action_chains.scroll_to_element(target_element)\n",
    "# time.sleep(3)\n",
    "action_chains.release(target_element)\n",
    "# action_chains.drag_and_drop(source_element, target_element).perform()"
   ]
  },
  {
   "cell_type": "code",
   "execution_count": null,
   "id": "cd76f546-1316-4e0e-aaee-1bbd3fe88b0d",
   "metadata": {},
   "outputs": [],
   "source": []
  }
 ],
 "metadata": {
  "kernelspec": {
   "display_name": "Python 3 (ipykernel)",
   "language": "python",
   "name": "python3"
  },
  "language_info": {
   "codemirror_mode": {
    "name": "ipython",
    "version": 3
   },
   "file_extension": ".py",
   "mimetype": "text/x-python",
   "name": "python",
   "nbconvert_exporter": "python",
   "pygments_lexer": "ipython3",
   "version": "3.10.11"
  }
 },
 "nbformat": 4,
 "nbformat_minor": 5
}
