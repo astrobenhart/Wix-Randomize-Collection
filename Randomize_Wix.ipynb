{
 "cells": [
  {
   "cell_type": "code",
   "execution_count": 1,
   "id": "e81108da-e195-422b-8307-0f3eb256bb06",
   "metadata": {},
   "outputs": [],
   "source": [
    "from selenium import webdriver\n",
    "from selenium.webdriver.common.by import By\n",
    "from selenium.webdriver.support.ui import WebDriverWait\n",
    "from selenium.webdriver.support import expected_conditions as EC\n",
    "from selenium.common.exceptions import TimeoutException, ElementNotInteractableException\n",
    "import random\n",
    "from time import sleep\n",
    "from tqdm import tqdm\n",
    "\n",
    "import warnings\n",
    "warnings.filterwarnings(\"ignore\", category=DeprecationWarning) \n",
    "warnings.filterwarnings(\"ignore\", category=UserWarning) "
   ]
  },
  {
   "cell_type": "code",
   "execution_count": 2,
   "id": "861c09c6-6cbd-4aa8-9c0e-83aa89063eb1",
   "metadata": {},
   "outputs": [
    {
     "ename": "ElementNotInteractableException",
     "evalue": "Message: Element <input id=\"input_1\" class=\"ng-pristine ng-untouched ng-scope md-input ng-empty ng-invalid ng-invalid-required ng-valid-minlength\" name=\"password\" type=\"password\"> is not reachable by keyboard\nStacktrace:\nWebDriverError@chrome://remote/content/shared/webdriver/Errors.jsm:183:5\nElementNotInteractableError@chrome://remote/content/shared/webdriver/Errors.jsm:293:5\nwebdriverSendKeysToElement@chrome://remote/content/marionette/interaction.js:624:13\ninteraction.sendKeysToElement@chrome://remote/content/marionette/interaction.js:600:11\nsendKeysToElement@chrome://remote/content/marionette/actors/MarionetteCommandsChild.jsm:497:24\nreceiveMessage@chrome://remote/content/marionette/actors/MarionetteCommandsChild.jsm:151:31\n",
     "output_type": "error",
     "traceback": [
      "\u001b[1;31m---------------------------------------------------------------------------\u001b[0m",
      "\u001b[1;31mElementNotInteractableException\u001b[0m           Traceback (most recent call last)",
      "Input \u001b[1;32mIn [2]\u001b[0m, in \u001b[0;36m<cell line: 4>\u001b[1;34m()\u001b[0m\n\u001b[0;32m      2\u001b[0m driver\u001b[38;5;241m.\u001b[39mget(\u001b[38;5;124m\"\u001b[39m\u001b[38;5;124mhttp://www.wix.com/signin\u001b[39m\u001b[38;5;124m\"\u001b[39m)\n\u001b[0;32m      3\u001b[0m driver\u001b[38;5;241m.\u001b[39mfind_element_by_id(\u001b[38;5;124m'\u001b[39m\u001b[38;5;124minput_0\u001b[39m\u001b[38;5;124m'\u001b[39m)\u001b[38;5;241m.\u001b[39msend_keys(\u001b[38;5;124m\"\u001b[39m\u001b[38;5;124mREPLACE WITH YOUR LOGIN EMAIL\u001b[39m\u001b[38;5;124m\"\u001b[39m)\n\u001b[1;32m----> 4\u001b[0m \u001b[43mdriver\u001b[49m\u001b[38;5;241;43m.\u001b[39;49m\u001b[43mfind_element_by_id\u001b[49m\u001b[43m(\u001b[49m\u001b[38;5;124;43m'\u001b[39;49m\u001b[38;5;124;43minput_1\u001b[39;49m\u001b[38;5;124;43m'\u001b[39;49m\u001b[43m)\u001b[49m\u001b[38;5;241;43m.\u001b[39;49m\u001b[43msend_keys\u001b[49m\u001b[43m(\u001b[49m\u001b[38;5;124;43m'\u001b[39;49m\u001b[38;5;124;43mREPLACE WITH YOUR LOGIN PASSWORD\u001b[39;49m\u001b[38;5;124;43m'\u001b[39;49m\u001b[43m)\u001b[49m\n",
      "File \u001b[1;32m~\\anaconda3\\envs\\catstore\\lib\\site-packages\\selenium\\webdriver\\remote\\webelement.py:540\u001b[0m, in \u001b[0;36mWebElement.send_keys\u001b[1;34m(self, *value)\u001b[0m\n\u001b[0;32m    537\u001b[0m             remote_files\u001b[38;5;241m.\u001b[39mappend(\u001b[38;5;28mself\u001b[39m\u001b[38;5;241m.\u001b[39m_upload(file))\n\u001b[0;32m    538\u001b[0m         value \u001b[38;5;241m=\u001b[39m \u001b[38;5;124m'\u001b[39m\u001b[38;5;130;01m\\n\u001b[39;00m\u001b[38;5;124m'\u001b[39m\u001b[38;5;241m.\u001b[39mjoin(remote_files)\n\u001b[1;32m--> 540\u001b[0m \u001b[38;5;28;43mself\u001b[39;49m\u001b[38;5;241;43m.\u001b[39;49m\u001b[43m_execute\u001b[49m\u001b[43m(\u001b[49m\u001b[43mCommand\u001b[49m\u001b[38;5;241;43m.\u001b[39;49m\u001b[43mSEND_KEYS_TO_ELEMENT\u001b[49m\u001b[43m,\u001b[49m\n\u001b[0;32m    541\u001b[0m \u001b[43m              \u001b[49m\u001b[43m{\u001b[49m\u001b[38;5;124;43m'\u001b[39;49m\u001b[38;5;124;43mtext\u001b[39;49m\u001b[38;5;124;43m'\u001b[39;49m\u001b[43m:\u001b[49m\u001b[43m \u001b[49m\u001b[38;5;124;43m\"\u001b[39;49m\u001b[38;5;124;43m\"\u001b[39;49m\u001b[38;5;241;43m.\u001b[39;49m\u001b[43mjoin\u001b[49m\u001b[43m(\u001b[49m\u001b[43mkeys_to_typing\u001b[49m\u001b[43m(\u001b[49m\u001b[43mvalue\u001b[49m\u001b[43m)\u001b[49m\u001b[43m)\u001b[49m\u001b[43m,\u001b[49m\n\u001b[0;32m    542\u001b[0m \u001b[43m               \u001b[49m\u001b[38;5;124;43m'\u001b[39;49m\u001b[38;5;124;43mvalue\u001b[39;49m\u001b[38;5;124;43m'\u001b[39;49m\u001b[43m:\u001b[49m\u001b[43m \u001b[49m\u001b[43mkeys_to_typing\u001b[49m\u001b[43m(\u001b[49m\u001b[43mvalue\u001b[49m\u001b[43m)\u001b[49m\u001b[43m}\u001b[49m\u001b[43m)\u001b[49m\n",
      "File \u001b[1;32m~\\anaconda3\\envs\\catstore\\lib\\site-packages\\selenium\\webdriver\\remote\\webelement.py:710\u001b[0m, in \u001b[0;36mWebElement._execute\u001b[1;34m(self, command, params)\u001b[0m\n\u001b[0;32m    708\u001b[0m     params \u001b[38;5;241m=\u001b[39m {}\n\u001b[0;32m    709\u001b[0m params[\u001b[38;5;124m'\u001b[39m\u001b[38;5;124mid\u001b[39m\u001b[38;5;124m'\u001b[39m] \u001b[38;5;241m=\u001b[39m \u001b[38;5;28mself\u001b[39m\u001b[38;5;241m.\u001b[39m_id\n\u001b[1;32m--> 710\u001b[0m \u001b[38;5;28;01mreturn\u001b[39;00m \u001b[38;5;28;43mself\u001b[39;49m\u001b[38;5;241;43m.\u001b[39;49m\u001b[43m_parent\u001b[49m\u001b[38;5;241;43m.\u001b[39;49m\u001b[43mexecute\u001b[49m\u001b[43m(\u001b[49m\u001b[43mcommand\u001b[49m\u001b[43m,\u001b[49m\u001b[43m \u001b[49m\u001b[43mparams\u001b[49m\u001b[43m)\u001b[49m\n",
      "File \u001b[1;32m~\\anaconda3\\envs\\catstore\\lib\\site-packages\\selenium\\webdriver\\remote\\webdriver.py:424\u001b[0m, in \u001b[0;36mWebDriver.execute\u001b[1;34m(self, driver_command, params)\u001b[0m\n\u001b[0;32m    422\u001b[0m response \u001b[38;5;241m=\u001b[39m \u001b[38;5;28mself\u001b[39m\u001b[38;5;241m.\u001b[39mcommand_executor\u001b[38;5;241m.\u001b[39mexecute(driver_command, params)\n\u001b[0;32m    423\u001b[0m \u001b[38;5;28;01mif\u001b[39;00m response:\n\u001b[1;32m--> 424\u001b[0m     \u001b[38;5;28;43mself\u001b[39;49m\u001b[38;5;241;43m.\u001b[39;49m\u001b[43merror_handler\u001b[49m\u001b[38;5;241;43m.\u001b[39;49m\u001b[43mcheck_response\u001b[49m\u001b[43m(\u001b[49m\u001b[43mresponse\u001b[49m\u001b[43m)\u001b[49m\n\u001b[0;32m    425\u001b[0m     response[\u001b[38;5;124m'\u001b[39m\u001b[38;5;124mvalue\u001b[39m\u001b[38;5;124m'\u001b[39m] \u001b[38;5;241m=\u001b[39m \u001b[38;5;28mself\u001b[39m\u001b[38;5;241m.\u001b[39m_unwrap_value(\n\u001b[0;32m    426\u001b[0m         response\u001b[38;5;241m.\u001b[39mget(\u001b[38;5;124m'\u001b[39m\u001b[38;5;124mvalue\u001b[39m\u001b[38;5;124m'\u001b[39m, \u001b[38;5;28;01mNone\u001b[39;00m))\n\u001b[0;32m    427\u001b[0m     \u001b[38;5;28;01mreturn\u001b[39;00m response\n",
      "File \u001b[1;32m~\\anaconda3\\envs\\catstore\\lib\\site-packages\\selenium\\webdriver\\remote\\errorhandler.py:247\u001b[0m, in \u001b[0;36mErrorHandler.check_response\u001b[1;34m(self, response)\u001b[0m\n\u001b[0;32m    245\u001b[0m         alert_text \u001b[38;5;241m=\u001b[39m value[\u001b[38;5;124m'\u001b[39m\u001b[38;5;124malert\u001b[39m\u001b[38;5;124m'\u001b[39m]\u001b[38;5;241m.\u001b[39mget(\u001b[38;5;124m'\u001b[39m\u001b[38;5;124mtext\u001b[39m\u001b[38;5;124m'\u001b[39m)\n\u001b[0;32m    246\u001b[0m     \u001b[38;5;28;01mraise\u001b[39;00m exception_class(message, screen, stacktrace, alert_text)  \u001b[38;5;66;03m# type: ignore[call-arg]  # mypy is not smart enough here\u001b[39;00m\n\u001b[1;32m--> 247\u001b[0m \u001b[38;5;28;01mraise\u001b[39;00m exception_class(message, screen, stacktrace)\n",
      "\u001b[1;31mElementNotInteractableException\u001b[0m: Message: Element <input id=\"input_1\" class=\"ng-pristine ng-untouched ng-scope md-input ng-empty ng-invalid ng-invalid-required ng-valid-minlength\" name=\"password\" type=\"password\"> is not reachable by keyboard\nStacktrace:\nWebDriverError@chrome://remote/content/shared/webdriver/Errors.jsm:183:5\nElementNotInteractableError@chrome://remote/content/shared/webdriver/Errors.jsm:293:5\nwebdriverSendKeysToElement@chrome://remote/content/marionette/interaction.js:624:13\ninteraction.sendKeysToElement@chrome://remote/content/marionette/interaction.js:600:11\nsendKeysToElement@chrome://remote/content/marionette/actors/MarionetteCommandsChild.jsm:497:24\nreceiveMessage@chrome://remote/content/marionette/actors/MarionetteCommandsChild.jsm:151:31\n"
     ]
    }
   ],
   "source": [
    "driver = webdriver.Firefox(executable_path='gd/geckodriver.exe')\n",
    "driver.get(\"http://www.wix.com/signin\")\n",
    "driver.find_element_by_id('input_0').send_keys(\"REPLACE WITH YOUR LOGIN EMAIL\")\n",
    "driver.find_element_by_id('input_1').send_keys('REPLACE WITH YOUR LOGIN PASSWORD')"
   ]
  },
  {
   "cell_type": "markdown",
   "id": "28ae8673-36e9-4653-8f43-100839a7bd64",
   "metadata": {},
   "source": [
    "Log in"
   ]
  },
  {
   "cell_type": "markdown",
   "id": "c313412b-8b04-45be-a909-f39f192796d7",
   "metadata": {},
   "source": [
    "Navigate to the collection and scroll to the bottom, making sure all of the products in the collection are visible."
   ]
  },
  {
   "cell_type": "code",
   "execution_count": 48,
   "id": "366e809d-4ae3-4959-8c33-3e7ff4b9dbbd",
   "metadata": {},
   "outputs": [],
   "source": [
    "def get_radio_box(prod_name):\n",
    "    # finds the radio box associated with the product name in case of duplicates\n",
    "    # prod_box = driver.find_elements_by_class_name('wix-list-item')\n",
    "    prod_box = driver.find_elements_by_class_name('popover-element')\n",
    "    for i in prod_box:\n",
    "        try:\n",
    "            products_name = str(i.find_element_by_class_name('popover-element').text).replace('’', '').lower()\n",
    "            if str(prod_name).lower() in products_name:\n",
    "                return i.find_element_by_class_name('checkbox-box')\n",
    "        except: \n",
    "            pass"
   ]
  },
  {
   "cell_type": "code",
   "execution_count": 46,
   "id": "f4c62cad-ad73-4c50-8df5-3a2bccab700a",
   "metadata": {},
   "outputs": [],
   "source": [
    "def add_to_collection(prod_name, collection_name):\n",
    "    # adds a Product to a given collection\n",
    "    prod_name = str(prod_name).replace('’', '').lower()\n",
    "    try:\n",
    "        # driver.find_element_by_class_name('wix-search-clear').click()\n",
    "        driver.find_element_by_class_name('s3QYfwo').click()\n",
    "    except:\n",
    "        print('1')\n",
    "        pass\n",
    "    sleep(1)\n",
    "    try:\n",
    "        WebDriverWait(driver, 20).until(EC.presence_of_element_located((By.ID, \"s3cite5\"))).click()\n",
    "    except TimeoutException:\n",
    "        print('2')\n",
    "        driver.refresh()\n",
    "        sleep(60)\n",
    "        WebDriverWait(driver, 20).until(EC.presence_of_element_located((By.ID, \"s3site5\"))).click()\n",
    "    sleep(1)\n",
    "    if len(prod_name)>21:\n",
    "        send_str = str(prod_name).lower()[-21:]\n",
    "    else:\n",
    "        send_str = str(prod_name).lower()\n",
    "    driver.find_element_by_id('s3cite').send_keys(send_str)\n",
    "    sleep(5)\n",
    "    x = 0\n",
    "    while (len(driver.find_elements_by_class_name('wix-checkbox-inner')) < 2) and (x<10):\n",
    "        sleep(1)\n",
    "        x+=1\n",
    "    prod_radio = get_radio_box(prod_name)\n",
    "    if (x != 10) and prod_radio is not None:\n",
    "        prod_radio.click()\n",
    "        sleep(1)\n",
    "        driver.find_element_by_xpath('/html/body/div[1]/div/div/div[2]/div/div[1]/div/div/div/div/div/store-manager/div/main/products-list/page-header/div[2]/ul/li[1]/list-header/div[2]/dropdown-button[1]/button/span').click()\n",
    "        sleep(1)\n",
    "        driver.find_elements_by_class_name('wix-search-wrapper')[1].click()\n",
    "        for i in driver.find_elements_by_class_name('ng-pristine'):\n",
    "            try:\n",
    "                i.send_keys(collection_name)\n",
    "            except:\n",
    "                print('3')\n",
    "                pass\n",
    "        sleep(1)\n",
    "        coll = driver.find_element_by_class_name('name')\n",
    "        assert(str(coll.text).lower() == str(collection_name).lower())\n",
    "        coll.click()\n",
    "        driver.find_elements_by_xpath(\"//*[@data-hook='apply']\")[0].click()\n",
    "    else:\n",
    "        print('couldnt find {}'.format(prod_name))\n",
    "    sleep(5)"
   ]
  },
  {
   "cell_type": "code",
   "execution_count": 37,
   "id": "a15437cc-b982-4315-9f18-cc91e236a16e",
   "metadata": {},
   "outputs": [],
   "source": [
    "def add_all():\n",
    "    # Get collection details and shuffle Product list\n",
    "    prods = driver.find_elements_by_class_name('product-name')\n",
    "    removes = driver.find_elements_by_class_name('remove-button')\n",
    "    print(len(prods))\n",
    "    prod_names = [x.text for x in prods]\n",
    "    # collection_name = driver.find_element_by_class_name('label-text').text\n",
    "\n",
    "    prod_list = list(zip(range(len(prod_names)), prod_names, removes))\n",
    "    random.shuffle(prod_list)\n",
    "    \n",
    "    # return [x for x in prod_list]\n",
    "    return prod_names"
   ]
  },
  {
   "cell_type": "code",
   "execution_count": 38,
   "id": "9bee036d-9c3c-4359-aec3-e54a660ed355",
   "metadata": {},
   "outputs": [],
   "source": [
    "def get_missing(original_collection, shuffled_collection):\n",
    "    return [elem for elem in original_collection if elem not in shuffled_collection]"
   ]
  },
  {
   "cell_type": "markdown",
   "id": "f79c7f89-00e9-447a-9c7f-5e2a54cdb6e7",
   "metadata": {},
   "source": [
    "# Randomizing Collections"
   ]
  },
  {
   "cell_type": "markdown",
   "id": "17d7c246-c8f4-4662-839b-661f7b52363d",
   "metadata": {},
   "source": [
    "Go to collection you wish to randomize and scroll to the last product."
   ]
  },
  {
   "cell_type": "code",
   "execution_count": 41,
   "id": "4f3a14a7-ad86-4b5b-a6ff-f7aea33f4ebd",
   "metadata": {},
   "outputs": [
    {
     "name": "stdout",
     "output_type": "stream",
     "text": [
      "534\n"
     ]
    }
   ],
   "source": [
    "prod_list = add_all()"
   ]
  },
  {
   "cell_type": "markdown",
   "id": "76f088db-5b7a-4f63-ab8d-fb1c0c9e4c93",
   "metadata": {},
   "source": [
    "Create new collection and enter its name below"
   ]
  },
  {
   "cell_type": "code",
   "execution_count": 42,
   "id": "7c086104-58a6-4cb3-af55-2068787ee042",
   "metadata": {},
   "outputs": [],
   "source": [
    "collection_name = 'all_products_20221126'"
   ]
  },
  {
   "cell_type": "code",
   "execution_count": 13,
   "id": "77c4e299-1412-4d98-8b57-15d5bffa1230",
   "metadata": {},
   "outputs": [],
   "source": [
    "# prod_list.remove('Cats Playing Hippos 1000 Piece Puzzle')"
   ]
  },
  {
   "cell_type": "code",
   "execution_count": 15,
   "id": "9b94dfb1-9512-445b-bbe2-f936cd330eb5",
   "metadata": {},
   "outputs": [],
   "source": [
    "# prod_list_end = prod_list[100:]"
   ]
  },
  {
   "cell_type": "code",
   "execution_count": 43,
   "id": "96886bb7-9749-40d1-98f9-26a98bc5ec08",
   "metadata": {},
   "outputs": [
    {
     "data": {
      "text/plain": [
       "['Cats Vs Pickles Huggers Plush Toy - Taco Cat',\n",
       " 'Cats Vs Pickles Huggers Plush Toy - Triple Scoop',\n",
       " 'Cats Vs Pickles Huggers Plush Toy - Rainbow Cake',\n",
       " 'Cats Vs Pickles Huggers Plush Toy - Comet Hartley 2',\n",
       " 'Cats Vs Pickles Huggers Plush Toy - Llama']"
      ]
     },
     "execution_count": 43,
     "metadata": {},
     "output_type": "execute_result"
    }
   ],
   "source": [
    "prod_list[:5]"
   ]
  },
  {
   "cell_type": "code",
   "execution_count": 64,
   "id": "6cdd0986-b848-4f48-8f32-2df544015f0a",
   "metadata": {},
   "outputs": [
    {
     "data": {
      "text/plain": [
       "'Cats Vs Pickles Huggers Plush Toy - Triple Scoop'"
      ]
     },
     "execution_count": 64,
     "metadata": {},
     "output_type": "execute_result"
    }
   ],
   "source": [
    "driver.find_elements_by_xpath('/html/body/div[2]/div/div[2]/div[2]/div[2]/div[1]/div/div/div/div/span/div[1]/div/div/div/div[2]/div/div/div/div/div[2]/div[4]/div/div/div/table/tbody/tr[2]/td[3]/a/div/div/div/span')[0].text"
   ]
  },
  {
   "cell_type": "code",
   "execution_count": 75,
   "id": "e08e0b8e-4003-4e56-ba21-477f0ab04071",
   "metadata": {},
   "outputs": [
    {
     "data": {
      "text/plain": [
       "'Cats Vs Pickles Huggers Plush Toy - Taco Cat'"
      ]
     },
     "execution_count": 75,
     "metadata": {},
     "output_type": "execute_result"
    }
   ],
   "source": [
    "# driver.find_elements_by_css_selector('ProductListPage_product_name_1')\n",
    "# driver.find_elements_by_name('Cats Vs Pickles Huggers Plush Toy - Triple Scoop')\n",
    "# driver .find_elements_by_class_name('ProductListPage-product-name-1')\n",
    "element = \"tr.s1-01wE:nth-child(1) > td:nth-child(3) > a:nth-child(1) > div:nth-child(1) > div:nth-child(1) > div:nth-child(1) > span:nth-child(1)\"\n",
    "driver.find_element_by_css_selector(element).text\n",
    "# tr.s1-01wE:nth-child(2) > td:nth-child(3) > a:nth-child(1) > div:nth-child(1) > div:nth-child(1) > div:nth-child(1) > span:nth-child(1)\n",
    "# tr.s1-01wE:nth-child(1) > td:nth-child(3) > a:nth-child(1) > div:nth-child(1) > div:nth-child(1) > div:nth-child(1) > span:nth-child(1)"
   ]
  },
  {
   "cell_type": "code",
   "execution_count": 81,
   "id": "39702b88-874f-489d-8a11-e836282f4ed4",
   "metadata": {},
   "outputs": [],
   "source": [
    "element = 'tr.s1-01wE:nth-child(7) > td:nth-child(1) > div:nth-child(1) > label:nth-child(2) > div:nth-child(1) > div:nth-child(1) > div:nth-child(1) > div:nth-child(1) > div:nth-child(1) > div:nth-child(1)'"
   ]
  },
  {
   "cell_type": "code",
   "execution_count": null,
   "id": "e0a74c2d-7c07-49a2-9de6-b3da8b918fa2",
   "metadata": {},
   "outputs": [],
   "source": [
    "tr.s1-01wE:nth-child(1) > td:nth-child(1) > div:nth-child(1) > label:nth-child(2) > div:nth-child(1) > div:nth-child(1) > div:nth-child(1) > div:nth-child(1) > div:nth-child(1) > div:nth-child(1)\n",
    "tr.s1-01wE:nth-child(2) > td:nth-child(1) > div:nth-child(1) > label:nth-child(2) > div:nth-child(1) > div:nth-child(1) > div:nth-child(1) > div:nth-child(1) > div:nth-child(1) > div:nth-child(1)"
   ]
  },
  {
   "cell_type": "code",
   "execution_count": 88,
   "id": "298ce508-8631-438d-8fc5-d333b34857c0",
   "metadata": {},
   "outputs": [
    {
     "name": "stdout",
     "output_type": "stream",
     "text": [
      "2\n"
     ]
    }
   ],
   "source": [
    "radios = []\n",
    "i = 1\n",
    "while True:\n",
    "    try:\n",
    "        element = 'tr.s1-01wE:nth-child({}) > td:nth-child(1) > div:nth-child(1) > label:nth-child(2) > div:nth-child(1) > div:nth-child(1) > div:nth-child(1) > div:nth-child(1) > div:nth-child(1) > div:nth-child(1)'.format(i)\n",
    "        radio_button = driver.find_element_by_css_selector(element)\n",
    "        radios.append(radio_button)\n",
    "        i+=1\n",
    "        print(i)\n",
    "        #code with possible error\n",
    "    except:\n",
    "         continue\n",
    "    else:\n",
    "         #the rest of the code\n",
    "         break"
   ]
  },
  {
   "cell_type": "code",
   "execution_count": 87,
   "id": "a092dd91-e06b-4d3c-96d3-38a15a391ad7",
   "metadata": {},
   "outputs": [],
   "source": [
    "radios[0].click()"
   ]
  },
  {
   "cell_type": "code",
   "execution_count": 82,
   "id": "e1c9aeca-19a3-4707-af67-d1f04c236cc5",
   "metadata": {},
   "outputs": [
    {
     "ename": "NoSuchElementException",
     "evalue": "Message: Unable to locate element: tr.s1-01wE:nth-child(7) > td:nth-child(1) > div:nth-child(1) > label:nth-child(2) > div:nth-child(1) > div:nth-child(1) > div:nth-child(1) > div:nth-child(1) > div:nth-child(1) > div:nth-child(1)\nStacktrace:\nWebDriverError@chrome://remote/content/shared/webdriver/Errors.jsm:183:5\nNoSuchElementError@chrome://remote/content/shared/webdriver/Errors.jsm:395:5\nelement.find/</<@chrome://remote/content/marionette/element.js:300:16\n",
     "output_type": "error",
     "traceback": [
      "\u001b[1;31m---------------------------------------------------------------------------\u001b[0m",
      "\u001b[1;31mNoSuchElementException\u001b[0m                    Traceback (most recent call last)",
      "Input \u001b[1;32mIn [82]\u001b[0m, in \u001b[0;36m<cell line: 1>\u001b[1;34m()\u001b[0m\n\u001b[1;32m----> 1\u001b[0m \u001b[43mdriver\u001b[49m\u001b[38;5;241;43m.\u001b[39;49m\u001b[43mfind_element_by_css_selector\u001b[49m\u001b[43m(\u001b[49m\u001b[43melement\u001b[49m\u001b[43m)\u001b[49m\u001b[38;5;241m.\u001b[39mclick()\n",
      "File \u001b[1;32m~\\anaconda3\\envs\\catstore\\lib\\site-packages\\selenium\\webdriver\\remote\\webdriver.py:808\u001b[0m, in \u001b[0;36mWebDriver.find_element_by_css_selector\u001b[1;34m(self, css_selector)\u001b[0m\n\u001b[0;32m    786\u001b[0m \u001b[38;5;124;03m\"\"\"\u001b[39;00m\n\u001b[0;32m    787\u001b[0m \u001b[38;5;124;03mFinds an element by css selector.\u001b[39;00m\n\u001b[0;32m    788\u001b[0m \n\u001b[1;32m   (...)\u001b[0m\n\u001b[0;32m    801\u001b[0m \u001b[38;5;124;03m        element = driver.find_element_by_css_selector('#foo')\u001b[39;00m\n\u001b[0;32m    802\u001b[0m \u001b[38;5;124;03m\"\"\"\u001b[39;00m\n\u001b[0;32m    803\u001b[0m warnings\u001b[38;5;241m.\u001b[39mwarn(\n\u001b[0;32m    804\u001b[0m     \u001b[38;5;124m\"\u001b[39m\u001b[38;5;124mfind_element_by_* commands are deprecated. Please use find_element() instead\u001b[39m\u001b[38;5;124m\"\u001b[39m,\n\u001b[0;32m    805\u001b[0m     \u001b[38;5;167;01mDeprecationWarning\u001b[39;00m,\n\u001b[0;32m    806\u001b[0m     stacklevel\u001b[38;5;241m=\u001b[39m\u001b[38;5;241m2\u001b[39m,\n\u001b[0;32m    807\u001b[0m )\n\u001b[1;32m--> 808\u001b[0m \u001b[38;5;28;01mreturn\u001b[39;00m \u001b[38;5;28;43mself\u001b[39;49m\u001b[38;5;241;43m.\u001b[39;49m\u001b[43mfind_element\u001b[49m\u001b[43m(\u001b[49m\u001b[43mby\u001b[49m\u001b[38;5;241;43m=\u001b[39;49m\u001b[43mBy\u001b[49m\u001b[38;5;241;43m.\u001b[39;49m\u001b[43mCSS_SELECTOR\u001b[49m\u001b[43m,\u001b[49m\u001b[43m \u001b[49m\u001b[43mvalue\u001b[49m\u001b[38;5;241;43m=\u001b[39;49m\u001b[43mcss_selector\u001b[49m\u001b[43m)\u001b[49m\n",
      "File \u001b[1;32m~\\anaconda3\\envs\\catstore\\lib\\site-packages\\selenium\\webdriver\\remote\\webdriver.py:1244\u001b[0m, in \u001b[0;36mWebDriver.find_element\u001b[1;34m(self, by, value)\u001b[0m\n\u001b[0;32m   1241\u001b[0m     by \u001b[38;5;241m=\u001b[39m By\u001b[38;5;241m.\u001b[39mCSS_SELECTOR\n\u001b[0;32m   1242\u001b[0m     value \u001b[38;5;241m=\u001b[39m \u001b[38;5;124m'\u001b[39m\u001b[38;5;124m[name=\u001b[39m\u001b[38;5;124m\"\u001b[39m\u001b[38;5;132;01m%s\u001b[39;00m\u001b[38;5;124m\"\u001b[39m\u001b[38;5;124m]\u001b[39m\u001b[38;5;124m'\u001b[39m \u001b[38;5;241m%\u001b[39m value\n\u001b[1;32m-> 1244\u001b[0m \u001b[38;5;28;01mreturn\u001b[39;00m \u001b[38;5;28;43mself\u001b[39;49m\u001b[38;5;241;43m.\u001b[39;49m\u001b[43mexecute\u001b[49m\u001b[43m(\u001b[49m\u001b[43mCommand\u001b[49m\u001b[38;5;241;43m.\u001b[39;49m\u001b[43mFIND_ELEMENT\u001b[49m\u001b[43m,\u001b[49m\u001b[43m \u001b[49m\u001b[43m{\u001b[49m\n\u001b[0;32m   1245\u001b[0m \u001b[43m    \u001b[49m\u001b[38;5;124;43m'\u001b[39;49m\u001b[38;5;124;43musing\u001b[39;49m\u001b[38;5;124;43m'\u001b[39;49m\u001b[43m:\u001b[49m\u001b[43m \u001b[49m\u001b[43mby\u001b[49m\u001b[43m,\u001b[49m\n\u001b[0;32m   1246\u001b[0m \u001b[43m    \u001b[49m\u001b[38;5;124;43m'\u001b[39;49m\u001b[38;5;124;43mvalue\u001b[39;49m\u001b[38;5;124;43m'\u001b[39;49m\u001b[43m:\u001b[49m\u001b[43m \u001b[49m\u001b[43mvalue\u001b[49m\u001b[43m}\u001b[49m\u001b[43m)\u001b[49m[\u001b[38;5;124m'\u001b[39m\u001b[38;5;124mvalue\u001b[39m\u001b[38;5;124m'\u001b[39m]\n",
      "File \u001b[1;32m~\\anaconda3\\envs\\catstore\\lib\\site-packages\\selenium\\webdriver\\remote\\webdriver.py:424\u001b[0m, in \u001b[0;36mWebDriver.execute\u001b[1;34m(self, driver_command, params)\u001b[0m\n\u001b[0;32m    422\u001b[0m response \u001b[38;5;241m=\u001b[39m \u001b[38;5;28mself\u001b[39m\u001b[38;5;241m.\u001b[39mcommand_executor\u001b[38;5;241m.\u001b[39mexecute(driver_command, params)\n\u001b[0;32m    423\u001b[0m \u001b[38;5;28;01mif\u001b[39;00m response:\n\u001b[1;32m--> 424\u001b[0m     \u001b[38;5;28;43mself\u001b[39;49m\u001b[38;5;241;43m.\u001b[39;49m\u001b[43merror_handler\u001b[49m\u001b[38;5;241;43m.\u001b[39;49m\u001b[43mcheck_response\u001b[49m\u001b[43m(\u001b[49m\u001b[43mresponse\u001b[49m\u001b[43m)\u001b[49m\n\u001b[0;32m    425\u001b[0m     response[\u001b[38;5;124m'\u001b[39m\u001b[38;5;124mvalue\u001b[39m\u001b[38;5;124m'\u001b[39m] \u001b[38;5;241m=\u001b[39m \u001b[38;5;28mself\u001b[39m\u001b[38;5;241m.\u001b[39m_unwrap_value(\n\u001b[0;32m    426\u001b[0m         response\u001b[38;5;241m.\u001b[39mget(\u001b[38;5;124m'\u001b[39m\u001b[38;5;124mvalue\u001b[39m\u001b[38;5;124m'\u001b[39m, \u001b[38;5;28;01mNone\u001b[39;00m))\n\u001b[0;32m    427\u001b[0m     \u001b[38;5;28;01mreturn\u001b[39;00m response\n",
      "File \u001b[1;32m~\\anaconda3\\envs\\catstore\\lib\\site-packages\\selenium\\webdriver\\remote\\errorhandler.py:247\u001b[0m, in \u001b[0;36mErrorHandler.check_response\u001b[1;34m(self, response)\u001b[0m\n\u001b[0;32m    245\u001b[0m         alert_text \u001b[38;5;241m=\u001b[39m value[\u001b[38;5;124m'\u001b[39m\u001b[38;5;124malert\u001b[39m\u001b[38;5;124m'\u001b[39m]\u001b[38;5;241m.\u001b[39mget(\u001b[38;5;124m'\u001b[39m\u001b[38;5;124mtext\u001b[39m\u001b[38;5;124m'\u001b[39m)\n\u001b[0;32m    246\u001b[0m     \u001b[38;5;28;01mraise\u001b[39;00m exception_class(message, screen, stacktrace, alert_text)  \u001b[38;5;66;03m# type: ignore[call-arg]  # mypy is not smart enough here\u001b[39;00m\n\u001b[1;32m--> 247\u001b[0m \u001b[38;5;28;01mraise\u001b[39;00m exception_class(message, screen, stacktrace)\n",
      "\u001b[1;31mNoSuchElementException\u001b[0m: Message: Unable to locate element: tr.s1-01wE:nth-child(7) > td:nth-child(1) > div:nth-child(1) > label:nth-child(2) > div:nth-child(1) > div:nth-child(1) > div:nth-child(1) > div:nth-child(1) > div:nth-child(1) > div:nth-child(1)\nStacktrace:\nWebDriverError@chrome://remote/content/shared/webdriver/Errors.jsm:183:5\nNoSuchElementError@chrome://remote/content/shared/webdriver/Errors.jsm:395:5\nelement.find/</<@chrome://remote/content/marionette/element.js:300:16\n"
     ]
    }
   ],
   "source": [
    "driver.find_element_by_css_selector(element).click()"
   ]
  },
  {
   "cell_type": "code",
   "execution_count": 47,
   "id": "bdc6974f-d98c-4252-9317-0a7ad5b00da3",
   "metadata": {},
   "outputs": [
    {
     "name": "stdout",
     "output_type": "stream",
     "text": [
      "1\n",
      "2\n"
     ]
    },
    {
     "name": "stderr",
     "output_type": "stream",
     "text": [
      "\n",
      "KeyboardInterrupt\n",
      "\n"
     ]
    }
   ],
   "source": [
    "add_to_collection(prod_list[0], collection_name)"
   ]
  },
  {
   "cell_type": "markdown",
   "id": "85ee4198-6075-4dbf-8175-37072c778e14",
   "metadata": {},
   "source": [
    "go to products to automate add to collection service"
   ]
  },
  {
   "cell_type": "code",
   "execution_count": 44,
   "id": "d39abb48-9767-4f59-a182-b8d33da9b91a",
   "metadata": {},
   "outputs": [
    {
     "name": "stderr",
     "output_type": "stream",
     "text": [
      "  0%|                                                                                          | 0/534 [01:48<?, ?it/s]\n",
      "\n",
      "KeyboardInterrupt\n",
      "\n"
     ]
    }
   ],
   "source": [
    "y = 0\n",
    "for i in tqdm(prod_list):\n",
    "    if y % 20 == 0:\n",
    "        driver.refresh()\n",
    "        sleep(10)\n",
    "    add_to_collection(i, collection_name)\n",
    "    y+=1"
   ]
  },
  {
   "cell_type": "code",
   "execution_count": 12,
   "id": "5032433a-4f61-4f53-a92b-f628cea88b0d",
   "metadata": {},
   "outputs": [
    {
     "data": {
      "text/plain": [
       "'Cats Playing Hippos 1000 Piece Puzzle'"
      ]
     },
     "execution_count": 12,
     "metadata": {},
     "output_type": "execute_result"
    }
   ],
   "source": [
    "prod_list[100]"
   ]
  },
  {
   "cell_type": "markdown",
   "id": "890e132b-9f24-48f3-9c82-0f6a91a4791d",
   "metadata": {},
   "source": [
    "# Checking for missing products in catelogs"
   ]
  },
  {
   "cell_type": "markdown",
   "id": "c1094911-0104-4884-b712-d2d4768ac408",
   "metadata": {},
   "source": [
    "Go to new collection and scroll to bottom"
   ]
  },
  {
   "cell_type": "code",
   "execution_count": 22,
   "id": "5fdb1622-3e05-48be-92f1-c433f3d64083",
   "metadata": {},
   "outputs": [
    {
     "name": "stdout",
     "output_type": "stream",
     "text": [
      "149\n"
     ]
    }
   ],
   "source": [
    "shuf_col, _ = add_all()"
   ]
  },
  {
   "cell_type": "code",
   "execution_count": 23,
   "id": "61347320-dccd-491a-98c2-28ae5c49cab6",
   "metadata": {},
   "outputs": [],
   "source": [
    "missing = get_missing(prod_list, shuf_col)"
   ]
  },
  {
   "cell_type": "markdown",
   "id": "9007a7a2-4209-4433-88cd-8904c183a11d",
   "metadata": {},
   "source": [
    "Either re-run the add code block using the new missing collection or just add manually. Normally some manual adding is needed, around 4-5 products on average."
   ]
  },
  {
   "cell_type": "code",
   "execution_count": 24,
   "id": "fc7ece40-eb7a-4029-b093-23f21199d266",
   "metadata": {},
   "outputs": [
    {
     "data": {
      "text/plain": [
       "[\"Men's Spooky Cat Socks\",\n",
       " 'Men’s Chase Crew Socks',\n",
       " 'Knittin’ Kitten Enamel Pin',\n",
       " 'Men’s Hipster Cat Socks',\n",
       " 'Men’s Angel Cat Socks',\n",
       " 'Men’s Wild Tiger Socks',\n",
       " 'Men’s Tiger Crew Socks',\n",
       " 'Bookish Cats 500 Piece Puzzle']"
      ]
     },
     "execution_count": 24,
     "metadata": {},
     "output_type": "execute_result"
    }
   ],
   "source": [
    "missing"
   ]
  },
  {
   "cell_type": "code",
   "execution_count": 21,
   "id": "c9677f06-b9c2-495a-b1b6-bd7e4a851974",
   "metadata": {},
   "outputs": [
    {
     "name": "stderr",
     "output_type": "stream",
     "text": [
      " 14%|███████████▍                                                                       | 4/29 [01:30<08:22, 20.11s/it]"
     ]
    },
    {
     "name": "stdout",
     "output_type": "stream",
     "text": [
      "couldnt find mens chase crew socks\n"
     ]
    },
    {
     "name": "stderr",
     "output_type": "stream",
     "text": [
      " 17%|██████████████▎                                                                    | 5/29 [01:53<08:26, 21.09s/it]"
     ]
    },
    {
     "name": "stdout",
     "output_type": "stream",
     "text": [
      "couldnt find knittin kitten enamel pin\n"
     ]
    },
    {
     "name": "stderr",
     "output_type": "stream",
     "text": [
      " 28%|██████████████████████▉                                                            | 8/29 [02:49<06:41, 19.10s/it]"
     ]
    },
    {
     "name": "stdout",
     "output_type": "stream",
     "text": [
      "couldnt find mens hipster cat socks\n"
     ]
    },
    {
     "name": "stderr",
     "output_type": "stream",
     "text": [
      " 62%|██████████████████████████████████████████████████▉                               | 18/29 [05:47<03:10, 17.32s/it]"
     ]
    },
    {
     "name": "stdout",
     "output_type": "stream",
     "text": [
      "couldnt find mens angel cat socks\n"
     ]
    },
    {
     "name": "stderr",
     "output_type": "stream",
     "text": [
      " 69%|████████████████████████████████████████████████████████▌                         | 20/29 [06:26<02:45, 18.37s/it]"
     ]
    },
    {
     "name": "stdout",
     "output_type": "stream",
     "text": [
      "couldnt find mens wild tiger socks\n"
     ]
    },
    {
     "name": "stderr",
     "output_type": "stream",
     "text": [
      " 90%|█████████████████████████████████████████████████████████████████████████▌        | 26/29 [08:31<00:55, 18.43s/it]"
     ]
    },
    {
     "name": "stdout",
     "output_type": "stream",
     "text": [
      "couldnt find mens tiger crew socks\n"
     ]
    },
    {
     "name": "stderr",
     "output_type": "stream",
     "text": [
      " 93%|████████████████████████████████████████████████████████████████████████████▎     | 27/29 [08:54<00:39, 19.77s/it]"
     ]
    },
    {
     "name": "stdout",
     "output_type": "stream",
     "text": [
      "couldnt find bookish cats 500 piece puzzle\n"
     ]
    },
    {
     "name": "stderr",
     "output_type": "stream",
     "text": [
      "100%|██████████████████████████████████████████████████████████████████████████████████| 29/29 [09:24<00:00, 19.46s/it]\n"
     ]
    }
   ],
   "source": [
    "y = 0\n",
    "for i in tqdm(missing):\n",
    "    if y % 20 == 0:\n",
    "        driver.refresh()\n",
    "        sleep(10)\n",
    "    add_to_collection(i, collection_name)\n",
    "    y+=1"
   ]
  },
  {
   "cell_type": "code",
   "execution_count": null,
   "id": "dad84575-cafd-45dd-b4f4-fe7bb8401f2d",
   "metadata": {},
   "outputs": [],
   "source": []
  }
 ],
 "metadata": {
  "kernelspec": {
   "display_name": "Python 3 (ipykernel)",
   "language": "python",
   "name": "python3"
  },
  "language_info": {
   "codemirror_mode": {
    "name": "ipython",
    "version": 3
   },
   "file_extension": ".py",
   "mimetype": "text/x-python",
   "name": "python",
   "nbconvert_exporter": "python",
   "pygments_lexer": "ipython3",
   "version": "3.10.11"
  }
 },
 "nbformat": 4,
 "nbformat_minor": 5
}
